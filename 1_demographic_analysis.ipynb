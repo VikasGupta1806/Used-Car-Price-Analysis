{
  "nbformat": 4,
  "nbformat_minor": 0,
  "metadata": {
    "colab": {
      "provenance": []
    },
    "kernelspec": {
      "name": "python3",
      "display_name": "Python 3"
    },
    "language_info": {
      "name": "python"
    }
  },
  "cells": [
    {
      "cell_type": "code",
      "source": [
        "import pandas as pd\n",
        "df = pd.read_csv(\"car_prices.csv\", on_bad_lines='skip')"
      ],
      "metadata": {
        "id": "_yFfrPwmzJyC"
      },
      "execution_count": 1,
      "outputs": []
    },
    {
      "cell_type": "code",
      "source": [
        "# Displaying basic information about the dataset\n",
        "print(df.info())"
      ],
      "metadata": {
        "colab": {
          "base_uri": "https://localhost:8080/"
        },
        "id": "Bf3u0vN3zUc5",
        "outputId": "f4fccdb3-8961-411e-ee9b-2b4ac737a5d2",
        "collapsed": true
      },
      "execution_count": 2,
      "outputs": [
        {
          "output_type": "stream",
          "name": "stdout",
          "text": [
            "<class 'pandas.core.frame.DataFrame'>\n",
            "RangeIndex: 6506 entries, 0 to 6505\n",
            "Data columns (total 16 columns):\n",
            " #   Column        Non-Null Count  Dtype  \n",
            "---  ------        --------------  -----  \n",
            " 0   year          6506 non-null   int64  \n",
            " 1   make          6483 non-null   object \n",
            " 2   model         6482 non-null   object \n",
            " 3   trim          6460 non-null   object \n",
            " 4   body          6328 non-null   object \n",
            " 5   transmission  6144 non-null   object \n",
            " 6   vin           6506 non-null   object \n",
            " 7   state         6506 non-null   object \n",
            " 8   condition     5797 non-null   float64\n",
            " 9   odometer      6498 non-null   float64\n",
            " 10  color         6489 non-null   object \n",
            " 11  interior      6489 non-null   object \n",
            " 12  seller        6506 non-null   object \n",
            " 13  mmr           6506 non-null   int64  \n",
            " 14  sellingprice  6506 non-null   int64  \n",
            " 15  saledate      6506 non-null   object \n",
            "dtypes: float64(2), int64(3), object(11)\n",
            "memory usage: 813.4+ KB\n",
            "None\n"
          ]
        }
      ]
    },
    {
      "cell_type": "markdown",
      "source": [
        "2. Data Cleaning"
      ],
      "metadata": {
        "id": "a4BvPrdkEHrm"
      }
    },
    {
      "cell_type": "code",
      "source": [
        "# Dropping rows with any missing values\n",
        "df.dropna(inplace=True)\n",
        "\n",
        "# Verifying that there are no missing values left\n",
        "print(df.isnull().sum())"
      ],
      "metadata": {
        "colab": {
          "base_uri": "https://localhost:8080/"
        },
        "collapsed": true,
        "id": "5RXkwvWseVGl",
        "outputId": "0a6f786d-22fb-4beb-eba6-3976c32d7535"
      },
      "execution_count": 3,
      "outputs": [
        {
          "output_type": "stream",
          "name": "stdout",
          "text": [
            "year            0\n",
            "make            0\n",
            "model           0\n",
            "trim            0\n",
            "body            0\n",
            "transmission    0\n",
            "vin             0\n",
            "state           0\n",
            "condition       0\n",
            "odometer        0\n",
            "color           0\n",
            "interior        0\n",
            "seller          0\n",
            "mmr             0\n",
            "sellingprice    0\n",
            "saledate        0\n",
            "dtype: int64\n"
          ]
        }
      ]
    },
    {
      "cell_type": "code",
      "source": [
        "# Converting 'saledate' to datetime\n",
        "df['saledate'] = pd.to_datetime(df['saledate'], utc=True, errors='coerce')\n",
        "\n",
        "# Verifying the data types\n",
        "print(df.dtypes)"
      ],
      "metadata": {
        "colab": {
          "base_uri": "https://localhost:8080/"
        },
        "collapsed": true,
        "id": "zsUK6fnXedBy",
        "outputId": "36223e8c-d502-4320-e417-c049e1642e9a"
      },
      "execution_count": 13,
      "outputs": [
        {
          "output_type": "stream",
          "name": "stdout",
          "text": [
            "year                          int64\n",
            "make                         object\n",
            "model                        object\n",
            "trim                         object\n",
            "body                         object\n",
            "transmission                 object\n",
            "vin                          object\n",
            "state                        object\n",
            "condition                   float64\n",
            "odometer                    float64\n",
            "color                        object\n",
            "interior                     object\n",
            "seller                       object\n",
            "mmr                           int64\n",
            "sellingprice                  int64\n",
            "saledate        datetime64[ns, UTC]\n",
            "dtype: object\n"
          ]
        }
      ]
    },
    {
      "cell_type": "code",
      "source": [
        "import numpy as np\n",
        "from scipy import stats\n",
        "\n",
        "# Calculating Z-scores for the 'sellingprice' column\n",
        "df['z_score'] = np.abs(stats.zscore(df['sellingprice']))\n",
        "\n",
        "# Removing rows where the Z-score is greater than 3\n",
        "df = df[df['z_score'] <= 3]\n",
        "\n",
        "# Dropping the 'z_score' column as it's no longer needed\n",
        "df.drop(columns=['z_score'], inplace=True)\n",
        "\n",
        "# Remove duplicates based on VIN\n",
        "df.drop_duplicates(subset='vin', inplace=True)\n",
        "\n",
        "# Verifying the changes\n",
        "print(df.describe())\n",
        "\n",
        "# Save the cleaned dataset\n",
        "df.to_csv('car_prices_cleaned.csv', index=False)"
      ],
      "metadata": {
        "colab": {
          "base_uri": "https://localhost:8080/"
        },
        "collapsed": true,
        "id": "rCWl7HXFeoLS",
        "outputId": "f26949a7-00ab-433d-cc92-5d84242c5d29"
      },
      "execution_count": 11,
      "outputs": [
        {
          "output_type": "stream",
          "name": "stdout",
          "text": [
            "              year    condition       odometer           mmr  sellingprice\n",
            "count  5331.000000  5331.000000    5331.000000   5331.000000   5331.000000\n",
            "mean   2010.248921     3.381542   60593.190771  15125.998875  14902.021384\n",
            "std       3.948369     0.999715   54461.468555   9682.690793   9759.954185\n",
            "min    1991.000000     1.000000       1.000000     25.000000    150.000000\n",
            "25%    2008.000000     2.600000   23082.000000   8275.000000   7900.000000\n",
            "50%    2012.000000     3.600000   40794.000000  13600.000000  13400.000000\n",
            "75%    2013.000000     4.200000   88281.000000  20500.000000  20500.000000\n",
            "max    2015.000000     5.000000  999999.000000  62000.000000  51700.000000\n"
          ]
        },
        {
          "output_type": "stream",
          "name": "stderr",
          "text": [
            "<ipython-input-11-0050d697aa92>:11: SettingWithCopyWarning: \n",
            "A value is trying to be set on a copy of a slice from a DataFrame\n",
            "\n",
            "See the caveats in the documentation: https://pandas.pydata.org/pandas-docs/stable/user_guide/indexing.html#returning-a-view-versus-a-copy\n",
            "  df.drop(columns=['z_score'], inplace=True)\n"
          ]
        }
      ]
    },
    {
      "cell_type": "markdown",
      "source": [
        "Segmentation Analysis"
      ],
      "metadata": {
        "id": "sB4k8thC0tbF"
      }
    },
    {
      "cell_type": "markdown",
      "source": [
        "1. Segmentation by Make and Model"
      ],
      "metadata": {
        "id": "-s1qKayV1n-T"
      }
    },
    {
      "cell_type": "code",
      "source": [
        "# Count of cars by make and model\n",
        "make_model_count = df.groupby(['make', 'model']).size().reset_index(name='num_cars')\n",
        "make_model_count = make_model_count.sort_values(by='num_cars', ascending=False)"
      ],
      "metadata": {
        "id": "qJHHu26Zzz5f"
      },
      "execution_count": null,
      "outputs": []
    },
    {
      "cell_type": "code",
      "source": [
        "# Average selling price by make and model\n",
        "make_model_price = df.groupby(['make', 'model'])['sellingprice'].mean().reset_index(name='avg_price')\n",
        "make_model_price = make_model_price.sort_values(by='avg_price', ascending=False)"
      ],
      "metadata": {
        "id": "79tP79bDz_LA"
      },
      "execution_count": null,
      "outputs": []
    },
    {
      "cell_type": "code",
      "source": [
        "print(make_model_count.head())\n",
        "print(make_model_price.head())"
      ],
      "metadata": {
        "collapsed": true,
        "id": "5lHO1ge_0GIf"
      },
      "execution_count": null,
      "outputs": []
    },
    {
      "cell_type": "markdown",
      "source": [
        "2. Segmentation by Body Type"
      ],
      "metadata": {
        "id": "WfdumXKS1x6A"
      }
    },
    {
      "cell_type": "code",
      "source": [
        "# Count of cars by body type\n",
        "body_count = df.groupby('body').size().reset_index(name='num_cars')\n",
        "body_count = body_count.sort_values(by='num_cars', ascending=False)\n",
        "\n",
        "# Average selling price by body type\n",
        "body_price = df.groupby('body')['sellingprice'].mean().reset_index(name='avg_price')\n",
        "body_price = body_price.sort_values(by='avg_price', ascending=False)"
      ],
      "metadata": {
        "id": "4S6Mb6y211As"
      },
      "execution_count": null,
      "outputs": []
    },
    {
      "cell_type": "code",
      "source": [
        "print(body_count.head())\n",
        "print(body_price.head())"
      ],
      "metadata": {
        "collapsed": true,
        "id": "y1IacoZh2Asq"
      },
      "execution_count": null,
      "outputs": []
    },
    {
      "cell_type": "markdown",
      "source": [
        "3. Segmentation by Transmission Type"
      ],
      "metadata": {
        "id": "x8tRH4BO2Kbr"
      }
    },
    {
      "cell_type": "code",
      "source": [
        "# Count of cars by transmission type\n",
        "transmission_count = df.groupby('transmission').size().reset_index(name='num_cars')\n",
        "transmission_count = transmission_count.sort_values(by='num_cars', ascending=False)\n",
        "\n",
        "# Average selling price by transmission type\n",
        "transmission_price = df.groupby('transmission')['sellingprice'].mean().reset_index(name='avg_price')\n",
        "transmission_price = transmission_price.sort_values(by='avg_price', ascending=False)"
      ],
      "metadata": {
        "id": "Haimm2cN2fPl"
      },
      "execution_count": null,
      "outputs": []
    },
    {
      "cell_type": "code",
      "source": [
        "print(transmission_count.head())\n",
        "print(transmission_price.head())"
      ],
      "metadata": {
        "collapsed": true,
        "id": "K1jxzaEQ3kx-"
      },
      "execution_count": null,
      "outputs": []
    },
    {
      "cell_type": "markdown",
      "source": [
        "4. Segmentation by Car Condition"
      ],
      "metadata": {
        "id": "W-IKSMtf3pRK"
      }
    },
    {
      "cell_type": "code",
      "source": [
        "# Count of cars by condition\n",
        "condition_count = df.groupby('condition').size().reset_index(name='num_cars')\n",
        "condition_count = condition_count.sort_values(by='num_cars', ascending=False)\n",
        "\n",
        "# Average selling price by condition\n",
        "condition_price = df.groupby('condition')['sellingprice'].mean().reset_index(name='avg_price')\n",
        "condition_price = condition_price.sort_values(by='avg_price', ascending=False)"
      ],
      "metadata": {
        "id": "hmXaMpT63u55"
      },
      "execution_count": null,
      "outputs": []
    },
    {
      "cell_type": "code",
      "source": [
        "print(condition_count.head())\n",
        "print(condition_price.head())"
      ],
      "metadata": {
        "collapsed": true,
        "id": "ulL8quVV356z"
      },
      "execution_count": null,
      "outputs": []
    },
    {
      "cell_type": "markdown",
      "source": [
        "5. Segmentation by Odometer Reading"
      ],
      "metadata": {
        "id": "HGrsKfUa4DuD"
      }
    },
    {
      "cell_type": "code",
      "source": [
        "# Segment cars by odometer ranges\n",
        "df['mileage_range'] = pd.cut(df['odometer'], bins=[0, 20000, 40000, 60000, 80000, 100000, float('inf')],\n",
        "                             labels=['0-20k', '20k-40k', '40k-60k', '60k-80k', '80k-100k', '100k+'])\n",
        "\n",
        "# Count of cars by mileage range\n",
        "mileage_count = df.groupby('mileage_range').size().reset_index(name='num_cars')\n",
        "mileage_count = mileage_count.sort_values(by='num_cars', ascending=False)\n",
        "\n",
        "# Average selling price by mileage range\n",
        "mileage_price = df.groupby('mileage_range')['sellingprice'].mean().reset_index(name='avg_price')\n",
        "mileage_price = mileage_price.sort_values(by='avg_price', ascending=False)"
      ],
      "metadata": {
        "id": "ZWUqa76g4ITd"
      },
      "execution_count": null,
      "outputs": []
    },
    {
      "cell_type": "code",
      "source": [
        "print(mileage_count.head())\n",
        "print(mileage_price.head())"
      ],
      "metadata": {
        "collapsed": true,
        "id": "fE5OTnzf4S9X"
      },
      "execution_count": null,
      "outputs": []
    },
    {
      "cell_type": "markdown",
      "source": [
        "Demographic Analysis"
      ],
      "metadata": {
        "id": "4LOortow02Ds"
      }
    },
    {
      "cell_type": "markdown",
      "source": [
        "1. Analysis by State"
      ],
      "metadata": {
        "id": "J4mmEqYX8PCp"
      }
    },
    {
      "cell_type": "code",
      "source": [
        "# Average selling price by state\n",
        "state_price = df.groupby('state')['sellingprice'].mean().reset_index(name='avg_price')\n",
        "state_price = state_price.sort_values(by='avg_price', ascending=False)\n",
        "\n",
        "# Count of cars by state\n",
        "state_count = df.groupby('state').size().reset_index(name='num_cars')\n",
        "state_count = state_count.sort_values(by='num_cars', ascending=False)\n"
      ],
      "metadata": {
        "id": "KWr0MgpP0i-e"
      },
      "execution_count": null,
      "outputs": []
    },
    {
      "cell_type": "code",
      "source": [
        "print(state_price.head())\n",
        "print(state_count.head())"
      ],
      "metadata": {
        "id": "9foKUsOA1Es6",
        "collapsed": true
      },
      "execution_count": null,
      "outputs": []
    }
  ]
}