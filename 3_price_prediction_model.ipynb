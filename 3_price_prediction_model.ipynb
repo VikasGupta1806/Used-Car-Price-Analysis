{
  "nbformat": 4,
  "nbformat_minor": 0,
  "metadata": {
    "colab": {
      "provenance": []
    },
    "kernelspec": {
      "name": "python3",
      "display_name": "Python 3"
    },
    "language_info": {
      "name": "python"
    }
  },
  "cells": [
    {
      "cell_type": "markdown",
      "source": [
        "Step 1: Data Preparation and Feature Engineering"
      ],
      "metadata": {
        "id": "1qbS_8NtxKpQ"
      }
    },
    {
      "cell_type": "code",
      "source": [
        "import pandas as pd\n",
        "from sklearn.model_selection import train_test_split\n",
        "from sklearn.ensemble import RandomForestRegressor\n",
        "from sklearn.metrics import mean_squared_error, r2_score\n",
        "from sklearn.preprocessing import OneHotEncoder  # Import OneHotEncoder\n",
        "\n",
        "# Loading the cleaned dataset\n",
        "df = pd.read_csv('car_prices_cleaned.csv')\n",
        "\n",
        "# Defining features and target variable\n",
        "X = df.drop(columns=['sellingprice', 'vin', 'saledate'])\n",
        "y = df['sellingprice']\n",
        "\n",
        "# Identifying categorical columns (assuming object dtype indicates categorical)\n",
        "categorical_cols = X.select_dtypes(include=['object']).columns\n",
        "\n",
        "# Applying one-hot encoding to categorical features\n",
        "ohe = OneHotEncoder(handle_unknown='ignore', sparse_output=False)  # Handle unknown categories\n",
        "X_encoded = pd.DataFrame(ohe.fit_transform(X[categorical_cols]))\n",
        "X_encoded.columns = ohe.get_feature_names_out(categorical_cols)  # Set column names\n",
        "X = X.drop(categorical_cols, axis=1).join(X_encoded)  # Combine numerical and encoded features\n",
        "\n",
        "# Splitting the data into training and testing sets\n",
        "X_train, X_test, y_train, y_test = train_test_split(X, y, test_size=0.2, random_state=42)\n",
        "\n"
      ],
      "metadata": {
        "id": "NgswkCtqxRKS"
      },
      "execution_count": 5,
      "outputs": []
    },
    {
      "cell_type": "markdown",
      "source": [
        "Step 2: Training the Model"
      ],
      "metadata": {
        "id": "0wbRPenaxuFy"
      }
    },
    {
      "cell_type": "code",
      "source": [
        "# Initializing the Random Forest Regressor\n",
        "rf_model = RandomForestRegressor(n_estimators=100, random_state=42)\n",
        "\n",
        "# Training the model on the training data\n",
        "rf_model.fit(X_train, y_train)\n"
      ],
      "metadata": {
        "colab": {
          "base_uri": "https://localhost:8080/",
          "height": 75
        },
        "id": "gevNSjwmxX4x",
        "outputId": "b506a2f4-dece-4177-fca7-5fa3cf392028"
      },
      "execution_count": 6,
      "outputs": [
        {
          "output_type": "execute_result",
          "data": {
            "text/plain": [
              "RandomForestRegressor(random_state=42)"
            ],
            "text/html": [
              "<style>#sk-container-id-1 {color: black;background-color: white;}#sk-container-id-1 pre{padding: 0;}#sk-container-id-1 div.sk-toggleable {background-color: white;}#sk-container-id-1 label.sk-toggleable__label {cursor: pointer;display: block;width: 100%;margin-bottom: 0;padding: 0.3em;box-sizing: border-box;text-align: center;}#sk-container-id-1 label.sk-toggleable__label-arrow:before {content: \"▸\";float: left;margin-right: 0.25em;color: #696969;}#sk-container-id-1 label.sk-toggleable__label-arrow:hover:before {color: black;}#sk-container-id-1 div.sk-estimator:hover label.sk-toggleable__label-arrow:before {color: black;}#sk-container-id-1 div.sk-toggleable__content {max-height: 0;max-width: 0;overflow: hidden;text-align: left;background-color: #f0f8ff;}#sk-container-id-1 div.sk-toggleable__content pre {margin: 0.2em;color: black;border-radius: 0.25em;background-color: #f0f8ff;}#sk-container-id-1 input.sk-toggleable__control:checked~div.sk-toggleable__content {max-height: 200px;max-width: 100%;overflow: auto;}#sk-container-id-1 input.sk-toggleable__control:checked~label.sk-toggleable__label-arrow:before {content: \"▾\";}#sk-container-id-1 div.sk-estimator input.sk-toggleable__control:checked~label.sk-toggleable__label {background-color: #d4ebff;}#sk-container-id-1 div.sk-label input.sk-toggleable__control:checked~label.sk-toggleable__label {background-color: #d4ebff;}#sk-container-id-1 input.sk-hidden--visually {border: 0;clip: rect(1px 1px 1px 1px);clip: rect(1px, 1px, 1px, 1px);height: 1px;margin: -1px;overflow: hidden;padding: 0;position: absolute;width: 1px;}#sk-container-id-1 div.sk-estimator {font-family: monospace;background-color: #f0f8ff;border: 1px dotted black;border-radius: 0.25em;box-sizing: border-box;margin-bottom: 0.5em;}#sk-container-id-1 div.sk-estimator:hover {background-color: #d4ebff;}#sk-container-id-1 div.sk-parallel-item::after {content: \"\";width: 100%;border-bottom: 1px solid gray;flex-grow: 1;}#sk-container-id-1 div.sk-label:hover label.sk-toggleable__label {background-color: #d4ebff;}#sk-container-id-1 div.sk-serial::before {content: \"\";position: absolute;border-left: 1px solid gray;box-sizing: border-box;top: 0;bottom: 0;left: 50%;z-index: 0;}#sk-container-id-1 div.sk-serial {display: flex;flex-direction: column;align-items: center;background-color: white;padding-right: 0.2em;padding-left: 0.2em;position: relative;}#sk-container-id-1 div.sk-item {position: relative;z-index: 1;}#sk-container-id-1 div.sk-parallel {display: flex;align-items: stretch;justify-content: center;background-color: white;position: relative;}#sk-container-id-1 div.sk-item::before, #sk-container-id-1 div.sk-parallel-item::before {content: \"\";position: absolute;border-left: 1px solid gray;box-sizing: border-box;top: 0;bottom: 0;left: 50%;z-index: -1;}#sk-container-id-1 div.sk-parallel-item {display: flex;flex-direction: column;z-index: 1;position: relative;background-color: white;}#sk-container-id-1 div.sk-parallel-item:first-child::after {align-self: flex-end;width: 50%;}#sk-container-id-1 div.sk-parallel-item:last-child::after {align-self: flex-start;width: 50%;}#sk-container-id-1 div.sk-parallel-item:only-child::after {width: 0;}#sk-container-id-1 div.sk-dashed-wrapped {border: 1px dashed gray;margin: 0 0.4em 0.5em 0.4em;box-sizing: border-box;padding-bottom: 0.4em;background-color: white;}#sk-container-id-1 div.sk-label label {font-family: monospace;font-weight: bold;display: inline-block;line-height: 1.2em;}#sk-container-id-1 div.sk-label-container {text-align: center;}#sk-container-id-1 div.sk-container {/* jupyter's `normalize.less` sets `[hidden] { display: none; }` but bootstrap.min.css set `[hidden] { display: none !important; }` so we also need the `!important` here to be able to override the default hidden behavior on the sphinx rendered scikit-learn.org. See: https://github.com/scikit-learn/scikit-learn/issues/21755 */display: inline-block !important;position: relative;}#sk-container-id-1 div.sk-text-repr-fallback {display: none;}</style><div id=\"sk-container-id-1\" class=\"sk-top-container\"><div class=\"sk-text-repr-fallback\"><pre>RandomForestRegressor(random_state=42)</pre><b>In a Jupyter environment, please rerun this cell to show the HTML representation or trust the notebook. <br />On GitHub, the HTML representation is unable to render, please try loading this page with nbviewer.org.</b></div><div class=\"sk-container\" hidden><div class=\"sk-item\"><div class=\"sk-estimator sk-toggleable\"><input class=\"sk-toggleable__control sk-hidden--visually\" id=\"sk-estimator-id-1\" type=\"checkbox\" checked><label for=\"sk-estimator-id-1\" class=\"sk-toggleable__label sk-toggleable__label-arrow\">RandomForestRegressor</label><div class=\"sk-toggleable__content\"><pre>RandomForestRegressor(random_state=42)</pre></div></div></div></div></div>"
            ]
          },
          "metadata": {},
          "execution_count": 6
        }
      ]
    },
    {
      "cell_type": "markdown",
      "source": [
        "Step 3: Evaluate the Model"
      ],
      "metadata": {
        "id": "nOoKQyR22GIo"
      }
    },
    {
      "cell_type": "code",
      "source": [
        "# Predicting on the testing data\n",
        "y_pred = rf_model.predict(X_test)\n",
        "\n",
        "# Calculating Mean Squared Error (MSE) and R-squared (R2) score\n",
        "mse = mean_squared_error(y_test, y_pred)\n",
        "r2 = r2_score(y_test, y_pred)\n",
        "\n",
        "print(f'Mean Squared Error (MSE): {mse}')\n",
        "print(f'R-squared (R2) Score: {r2}')\n"
      ],
      "metadata": {
        "colab": {
          "base_uri": "https://localhost:8080/"
        },
        "id": "qr_dfp4x2BzC",
        "outputId": "59d0b6f5-fb8b-4ad4-ac19-84734b9bf2e4"
      },
      "execution_count": 8,
      "outputs": [
        {
          "output_type": "stream",
          "name": "stdout",
          "text": [
            "Mean Squared Error (MSE): 3305479.344459166\n",
            "R-squared (R2) Score: 0.9569964196101743\n"
          ]
        }
      ]
    },
    {
      "cell_type": "code",
      "source": [
        "# Creating a DataFrame with actual values, predicted values, and their differences\n",
        "pred_df = pd.DataFrame({'Actual Value': y_test, 'Predicted Value': y_pred, 'Difference': y_test - y_pred})\n",
        "\n",
        "# Displaying the DataFrame\n",
        "print(pred_df)"
      ],
      "metadata": {
        "colab": {
          "base_uri": "https://localhost:8080/"
        },
        "id": "qTnfBqO64J31",
        "outputId": "93c6b829-dfa4-4aa4-8940-e13a6fb391c3"
      },
      "execution_count": 9,
      "outputs": [
        {
          "output_type": "stream",
          "name": "stdout",
          "text": [
            "      Actual Value  Predicted Value  Difference\n",
            "4362       14300.0          15778.5     -1478.5\n",
            "1805       24250.0          23568.0       682.0\n",
            "5458       14500.0          13739.5       760.5\n",
            "6797        8200.0           9793.0     -1593.0\n",
            "9541       10400.0          10812.5      -412.5\n",
            "...            ...              ...         ...\n",
            "3282       13250.0          12054.5      1195.5\n",
            "6109       28600.0          27959.4       640.6\n",
            "3265        5800.0           4411.0      1389.0\n",
            "3464       19000.0          20072.5     -1072.5\n",
            "3528        3100.0           2262.0       838.0\n",
            "\n",
            "[1942 rows x 3 columns]\n"
          ]
        }
      ]
    },
    {
      "cell_type": "markdown",
      "source": [
        "Checking the Model Performance"
      ],
      "metadata": {
        "id": "_L2OVy7S7Nw8"
      }
    },
    {
      "cell_type": "code",
      "source": [
        "# Performance on the training set\n",
        "y_train_pred = rf_model.predict(X_train)\n",
        "train_mse = mean_squared_error(y_train, y_train_pred)\n",
        "train_r2 = r2_score(y_train, y_train_pred)\n",
        "\n",
        "# Performance on the testing set\n",
        "test_mse = mean_squared_error(y_test, y_pred)\n",
        "test_r2 = r2_score(y_test, y_pred)\n",
        "\n",
        "print(f'Training Mean Squared Error (MSE): {train_mse}')\n",
        "print(f'Training R-squared (R2) Score: {train_r2}')\n",
        "print(f'Testing Mean Squared Error (MSE): {test_mse}')\n",
        "print(f'Testing R-squared (R2) Score: {test_r2}')"
      ],
      "metadata": {
        "colab": {
          "base_uri": "https://localhost:8080/"
        },
        "id": "0hWGyQnL7SYF",
        "outputId": "d35ac1b0-245a-4f49-b949-e7b83f4fc886"
      },
      "execution_count": 10,
      "outputs": [
        {
          "output_type": "stream",
          "name": "stdout",
          "text": [
            "Training Mean Squared Error (MSE): 371479.6875209299\n",
            "Training R-squared (R2) Score: 0.9951548841773439\n",
            "Testing Mean Squared Error (MSE): 3305479.344459166\n",
            "Testing R-squared (R2) Score: 0.9569964196101743\n"
          ]
        }
      ]
    },
    {
      "cell_type": "markdown",
      "source": [
        "The model accuracy is 95%"
      ],
      "metadata": {
        "id": "5uvMEGmV8L9T"
      }
    }
  ]
}